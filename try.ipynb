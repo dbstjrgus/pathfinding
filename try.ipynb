{
 "cells": [
  {
   "cell_type": "code",
   "id": "initial_id",
   "metadata": {
    "collapsed": true,
    "ExecuteTime": {
     "end_time": "2024-11-22T17:21:40.933244Z",
     "start_time": "2024-11-22T17:21:40.206193Z"
    }
   },
   "source": [
    "from pathfinding import Node\n",
    "from pyvis.network import Network\n",
    "from google_maps_test import get_distance, API_KEY\n",
    "from google_maps_test import get_coords \n",
    "\n",
    "addies = ['407 lantern ridge lane, cary, NC', '500 meadowmont lane, durham, nc', '1095 stillwell drive, durham, NC', '321 nottingham drive, durham, NC', '1103 roosevelt drive, chapel hill, NC', '302 south bend drive, durham, NC'] \n",
    "\n",
    "network = Network(height=\"750px\", width=\"100%\", bgcolor=\"#222222\", font_color=\"white\")\n",
    "all_nodes = [] \n",
    "for idx, ad in enumerate(addies):\n",
    "    network.add_node(n_id = idx, label = ad)\n",
    "    x,y = get_coords(API_KEY, ad)\n",
    "    n = Node(label = ad, x=x, y=y, id = idx)\n",
    "    all_nodes.append(n)\n",
    "\n",
    "\n",
    "\n",
    "    \n"
   ],
   "outputs": [],
   "execution_count": 4
  },
  {
   "metadata": {
    "ExecuteTime": {
     "end_time": "2024-11-22T17:30:50.984635Z",
     "start_time": "2024-11-22T17:30:50.977417Z"
    }
   },
   "cell_type": "code",
   "source": [
    "# adding edges\n",
    "edges= [(0,1), (0,2), (0,3), (0,4), (0,5), (1,2), (1,3), (1, 4), (1,5), (2,3), (2,4), (2,5), (3,4), (3,5), (4,5)]\n",
    "len(edges)"
   ],
   "id": "9468674bf52fbba4",
   "outputs": [
    {
     "data": {
      "text/plain": [
       "15"
      ]
     },
     "execution_count": 5,
     "metadata": {},
     "output_type": "execute_result"
    }
   ],
   "execution_count": 5
  },
  {
   "metadata": {
    "ExecuteTime": {
     "end_time": "2024-11-22T17:41:13.611576Z",
     "start_time": "2024-11-22T17:41:11.248562Z"
    }
   },
   "cell_type": "code",
   "source": [
    "'''\n",
    "for edge in edges: \n",
    "    network.add_edge(edge[0], edge[1], weight = get_distance(all_nodes[edge[0]].label, all_nodes[edge[1]].label, API_KEY))\n",
    "'''   "
   ],
   "id": "b642c38006bf56ce",
   "outputs": [],
   "execution_count": 6
  },
  {
   "metadata": {
    "ExecuteTime": {
     "end_time": "2024-11-22T17:41:52.927588Z",
     "start_time": "2024-11-22T17:41:52.915786Z"
    }
   },
   "cell_type": "code",
   "source": "",
   "id": "b00cf5d4dd85704f",
   "outputs": [],
   "execution_count": 8
  },
  {
   "metadata": {
    "ExecuteTime": {
     "end_time": "2024-11-22T18:14:26.757316Z",
     "start_time": "2024-11-22T18:14:24.847963Z"
    }
   },
   "cell_type": "code",
   "source": [
    "import random\n",
    "\n",
    "nodes = [0,1,2,3,4,5]\n",
    "edge_weights = {}\n",
    "sample = nodes[:]\n",
    "for s in sample:\n",
    "    modify = sample.copy()\n",
    "    modify.remove(s)\n",
    "    for _ in range(3):\n",
    "        neighbor = modify[random.randint(0, len(modify) - 1)]\n",
    "        weight_1 = get_distance(all_nodes[s].label, all_nodes[modify[random.randint(0, len(modify)-1)]].label, API_KEY)[0] # 0 or 1 \n",
    "        weight = float(weight_1[0: len(weight_1) - 3])\n",
    "        print(weight)\n",
    "        network.add_edge(s, neighbor, weight=weight)\n",
    "        edge_weights[(s, neighbor)] = weight\n",
    "        edge_weights[(neighbor, s)] = weight"
   ],
   "id": "59e07ff19f48aeb7",
   "outputs": [
    {
     "name": "stdout",
     "output_type": "stream",
     "text": [
      "21.8\n",
      "19.8\n",
      "19.8\n",
      "8.8\n",
      "19.7\n",
      "3.4\n",
      "8.7\n",
      "12.6\n",
      "10.6\n",
      "11.2\n",
      "20.5\n",
      "11.2\n",
      "11.7\n",
      "12.5\n",
      "11.7\n",
      "11.7\n",
      "10.3\n",
      "12.9\n"
     ]
    }
   ],
   "execution_count": 20
  },
  {
   "metadata": {
    "ExecuteTime": {
     "end_time": "2024-11-22T18:14:31.492127Z",
     "start_time": "2024-11-22T18:14:31.485882Z"
    }
   },
   "cell_type": "code",
   "source": [
    "from pathfinding import a_star_search\n",
    "\n",
    "path= a_star_search(0,5,network = network, same_nodes = all_nodes,edge_weights = edge_weights )\n",
    "network.toggle_physics(False)\n",
    "network.write_html('test1.html')"
   ],
   "id": "26f2f9c7f364313c",
   "outputs": [
    {
     "name": "stdout",
     "output_type": "stream",
     "text": [
      "Goal reached\n"
     ]
    }
   ],
   "execution_count": 21
  },
  {
   "metadata": {
    "ExecuteTime": {
     "end_time": "2024-11-22T18:15:51.038407Z",
     "start_time": "2024-11-22T18:15:51.035302Z"
    }
   },
   "cell_type": "code",
   "source": [
    "if path:\n",
    "    for node_id in path:\n",
    "        network.get_node(node_id)[\"color\"] = \"green\"\n",
    "        print(node_id)"
   ],
   "id": "661c01a7c82abf04",
   "outputs": [
    {
     "name": "stdout",
     "output_type": "stream",
     "text": [
      "0\n",
      "5\n"
     ]
    }
   ],
   "execution_count": 22
  },
  {
   "metadata": {},
   "cell_type": "code",
   "outputs": [],
   "execution_count": null,
   "source": "",
   "id": "7b7f794e0ab91293"
  }
 ],
 "metadata": {
  "kernelspec": {
   "display_name": "Python 3",
   "language": "python",
   "name": "python3"
  },
  "language_info": {
   "codemirror_mode": {
    "name": "ipython",
    "version": 2
   },
   "file_extension": ".py",
   "mimetype": "text/x-python",
   "name": "python",
   "nbconvert_exporter": "python",
   "pygments_lexer": "ipython2",
   "version": "2.7.6"
  }
 },
 "nbformat": 4,
 "nbformat_minor": 5
}
