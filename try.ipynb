{
 "cells": [
  {
   "cell_type": "code",
   "id": "initial_id",
   "metadata": {
    "collapsed": true,
    "ExecuteTime": {
     "end_time": "2024-11-22T17:21:40.933244Z",
     "start_time": "2024-11-22T17:21:40.206193Z"
    }
   },
   "source": [
    "from pathfinding import Node\n",
    "from pyvis.network import Network\n",
    "from google_maps_test import get_distance, API_KEY\n",
    "from google_maps_test import get_coords \n",
    "\n",
    "addies = ['407 lantern ridge lane, cary, NC', '500 meadowmont lane, durham, nc', '1095 stillwell drive, durham, NC', '321 nottingham drive, durham, NC', '1103 roosevelt drive, durham, NC', '302 south bend drive, durham, NC'] \n",
    "\n",
    "network = Network(height=\"750px\", width=\"100%\", bgcolor=\"#222222\", font_color=\"white\")\n",
    "all_nodes = [] \n",
    "for idx, ad in enumerate(addies):\n",
    "    network.add_node(n_id = idx, label = ad)\n",
    "    x,y = get_coords(API_KEY, ad)\n",
    "    n = Node(label = ad, x=x, y=y, id = idx)\n",
    "    all_nodes.append(n)\n",
    "\n",
    "network.write_html('test1.html')\n",
    "\n",
    "    \n"
   ],
   "outputs": [],
   "execution_count": 4
  },
  {
   "metadata": {},
   "cell_type": "code",
   "outputs": [],
   "execution_count": null,
   "source": "# adding edges\n",
   "id": "9468674bf52fbba4"
  }
 ],
 "metadata": {
  "kernelspec": {
   "display_name": "Python 3",
   "language": "python",
   "name": "python3"
  },
  "language_info": {
   "codemirror_mode": {
    "name": "ipython",
    "version": 2
   },
   "file_extension": ".py",
   "mimetype": "text/x-python",
   "name": "python",
   "nbconvert_exporter": "python",
   "pygments_lexer": "ipython2",
   "version": "2.7.6"
  }
 },
 "nbformat": 4,
 "nbformat_minor": 5
}
