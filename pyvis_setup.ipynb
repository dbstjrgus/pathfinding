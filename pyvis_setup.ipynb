{
 "cells": [
  {
   "metadata": {
    "ExecuteTime": {
     "end_time": "2024-11-22T03:08:42.330888Z",
     "start_time": "2024-11-22T03:08:42.326296Z"
    }
   },
   "cell_type": "code",
   "source": [
    "end_coords = (12,8)\n",
    "begin_coords = (0,0)\n",
    "nodes_visited = []\n",
    "nodes_unvisited= []\n",
    "current_Node = None\n",
    "\n",
    "class Node:\n",
    "    def __init__(self, id, x=0,y=0, previous = None):\n",
    "        self.id = id\n",
    "        self.x = x\n",
    "        self.y = y\n",
    "        self.fscore = sqrt((x-begin_coords[0])**2+(y-begin_coords[1])**2)\n",
    "        self.gscore = self.fscore + sqrt((x-end_coords[0])**2+(y-end_coords[1])**2)\n",
    "        \n",
    " \n",
    "    def getX(self):\n",
    "        return self.x\n",
    "    \n",
    "    def getY(self):\n",
    "        return self.y\n",
    "    \n",
    "    def getFscore(self):\n",
    "        return self.fscore\n",
    "    \n",
    "    def getGscore(self):\n",
    "        return self.gscore\n",
    "    \n",
    "    def set_previous(self):\n",
    "        self.previous = self\n",
    "        \n",
    "    def distance(self, node):\n",
    "        return sqrt((self.x-node.x)**2 + (self.y-node.y)**2)\n",
    "    \n",
    "    \n",
    "\n",
    "\n",
    "        \n",
    "        "
   ],
   "id": "a097563af29664ed",
   "outputs": [],
   "execution_count": 91
  },
  {
   "metadata": {
    "ExecuteTime": {
     "end_time": "2024-11-22T03:08:42.354282Z",
     "start_time": "2024-11-22T03:08:42.349406Z"
    }
   },
   "cell_type": "code",
   "source": [
    "from math import sqrt\n",
    "\n",
    "\n",
    "def heuristic(n_start, n_end, network):\n",
    "    return sqrt((n_start.x - n_start.y)^2+(n_end.x - n_end.y)^2)\n",
    "    "
   ],
   "id": "53a28fc92920759",
   "outputs": [],
   "execution_count": 92
  },
  {
   "cell_type": "code",
   "id": "initial_id",
   "metadata": {
    "collapsed": true,
    "ExecuteTime": {
     "end_time": "2024-11-22T03:08:42.387766Z",
     "start_time": "2024-11-22T03:08:42.383106Z"
    }
   },
   "source": [
    "from pyvis.network import Network\n",
    "import networkx as nx \n",
    "\n",
    "net = Network(height=\"750px\", width=\"100%\", bgcolor=\"#222222\", font_color=\"white\")\n",
    "nodes = [0,1,2,3,4,5,6,7,8,9]\n",
    "same_nodes = []\n",
    "for idx, name in enumerate(nodes):\n",
    "    print(idx, name)\n",
    "    net.add_node(idx, label=str(name))\n",
    "    n  = Node(idx)\n",
    "    same_nodes.append(n)\n",
    "print(len(same_nodes))\n"
   ],
   "outputs": [
    {
     "name": "stdout",
     "output_type": "stream",
     "text": [
      "0 0\n",
      "1 1\n",
      "2 2\n",
      "3 3\n",
      "4 4\n",
      "5 5\n",
      "6 6\n",
      "7 7\n",
      "8 8\n",
      "9 9\n",
      "10\n"
     ]
    }
   ],
   "execution_count": 93
  },
  {
   "metadata": {
    "ExecuteTime": {
     "end_time": "2024-11-22T03:08:42.393588Z",
     "start_time": "2024-11-22T03:08:42.388846Z"
    }
   },
   "cell_type": "code",
   "source": "net.get_node(9) # retrieves node ig",
   "id": "c37eff2b0049bc11",
   "outputs": [
    {
     "data": {
      "text/plain": [
       "{'color': '#97c2fc',\n",
       " 'id': 9,\n",
       " 'label': '9',\n",
       " 'shape': 'dot',\n",
       " 'font': {'color': 'white'}}"
      ]
     },
     "execution_count": 94,
     "metadata": {},
     "output_type": "execute_result"
    }
   ],
   "execution_count": 94
  },
  {
   "metadata": {
    "ExecuteTime": {
     "end_time": "2024-11-22T03:08:42.404140Z",
     "start_time": "2024-11-22T03:08:42.399802Z"
    }
   },
   "cell_type": "code",
   "source": [
    "same_nodes[0].x = 7\n",
    "same_nodes[0].y = -1\n",
    "\n",
    "same_nodes[1].x = 0\n",
    "same_nodes[1].y = 0\n",
    "\n",
    "same_nodes[2].x = -2\n",
    "same_nodes[2].y = -2\n",
    "\n",
    "same_nodes[3].x = 1\n",
    "same_nodes[3].y = 5\n",
    "\n",
    "same_nodes[4].x = 11\n",
    "same_nodes[4].y = -1\n",
    "\n",
    "same_nodes[5].x = 3\n",
    "same_nodes[5].y = -1\n",
    "\n",
    "same_nodes[6].x = 10\n",
    "same_nodes[6].y = 3\n",
    "\n",
    "same_nodes[7].x = 15\n",
    "same_nodes[7].y = 5\n",
    "\n",
    "same_nodes[8].x = 13\n",
    "same_nodes[8].y = 6\n",
    "\n",
    "same_nodes[9].x = 5\n",
    "same_nodes[9].y = 3\n",
    "\n",
    "\n",
    "\n",
    "\n",
    "\n"
   ],
   "id": "e79d871cabb51207",
   "outputs": [],
   "execution_count": 95
  },
  {
   "metadata": {
    "ExecuteTime": {
     "end_time": "2024-11-22T03:08:42.408853Z",
     "start_time": "2024-11-22T03:08:42.405140Z"
    }
   },
   "cell_type": "code",
   "source": [
    "import random \n",
    "# sample graph to run a*\n",
    "'''\n",
    "net.add_edge(1, 2, weight = random.randint(1,10))\n",
    "net.toggle_physics(True)\n",
    "net.write_html(\"sample.html\")\n",
    "'''\n",
    "\n",
    "sample = [0,1,2,3,4,5,6,7,8,9]\n",
    "for s in sample:\n",
    "    modify = sample.copy()\n",
    "    modify.remove(s)\n",
    "      # for now each has max three edges \n",
    "    net.add_edge(s, modify[random.randint(0,len(modify)-1)], weight = random.randint(1,10))\n",
    "\n",
    "net.add_node(10, label = \"10\")\n",
    "n_10 = Node(10, x = 3, y = 4)\n",
    "same_nodes.append(n_10)\n",
    "net.add_node(11, label = \"11\")\n",
    "n_11 = Node(11, x = 4, y = 6)\n",
    "same_nodes.append(n_11)\n",
    "net.add_node(12, label = \"12\")\n",
    "n_12 = Node(12, x = 12, y = 8)\n",
    "same_nodes.append(n_12)\n",
    "\n",
    "net.add_edge(10, 9, weight = random.randint(1,10))\n",
    "net.add_edge(10, 3, weight = random.randint(1,10))\n",
    "net.add_edge(11, 3, weight = random.randint(1,10))\n",
    "net.add_edge(11, 9, weight = random.randint(1,10))\n",
    "net.add_edge(11, 10, weight = random.randint(1,10))\n",
    "net.add_edge(12, 8, weight = random.randint(1,10))\n",
    "\n"
   ],
   "id": "7056443f173c5aa1",
   "outputs": [],
   "execution_count": 96
  },
  {
   "metadata": {
    "ExecuteTime": {
     "end_time": "2024-11-22T03:08:42.443911Z",
     "start_time": "2024-11-22T03:08:42.430265Z"
    }
   },
   "cell_type": "code",
   "source": [
    "net.toggle_physics(True)\n",
    "net.write_html(\"sample.html\")"
   ],
   "id": "643bc2dba2280b92",
   "outputs": [],
   "execution_count": 97
  },
  {
   "metadata": {
    "ExecuteTime": {
     "end_time": "2024-11-22T03:08:42.446878Z",
     "start_time": "2024-11-22T03:08:42.445307Z"
    }
   },
   "cell_type": "code",
   "source": "",
   "id": "90cbefe9de811cda",
   "outputs": [],
   "execution_count": 97
  },
  {
   "metadata": {
    "ExecuteTime": {
     "end_time": "2024-11-22T03:08:42.448731Z",
     "start_time": "2024-11-22T03:08:42.447376Z"
    }
   },
   "cell_type": "code",
   "source": [
    "start_node = 0 \n",
    "end_node = 12\n",
    "\n"
   ],
   "id": "5ffa98f5d16d028d",
   "outputs": [],
   "execution_count": 98
  },
  {
   "metadata": {
    "ExecuteTime": {
     "end_time": "2024-11-22T03:08:42.452140Z",
     "start_time": "2024-11-22T03:08:42.449722Z"
    }
   },
   "cell_type": "code",
   "source": [
    "net.neighbors(2)\n",
    "\n",
    "\n"
   ],
   "id": "6234c1ce47278c77",
   "outputs": [
    {
     "data": {
      "text/plain": [
       "{8}"
      ]
     },
     "execution_count": 99,
     "metadata": {},
     "output_type": "execute_result"
    }
   ],
   "execution_count": 99
  },
  {
   "metadata": {
    "ExecuteTime": {
     "end_time": "2024-11-22T03:08:42.455333Z",
     "start_time": "2024-11-22T03:08:42.452738Z"
    }
   },
   "cell_type": "code",
   "source": [
    "net.get_edges()\n",
    "#a[0].get('weight')\n",
    "attached_edges = [edge for edge in net.get_edges() if edge['from'] == 1 or edge['to'] == 1]\n",
    "attached_edges\n",
    "\n"
   ],
   "id": "1ea9062b671000f4",
   "outputs": [
    {
     "data": {
      "text/plain": [
       "[{'weight': 10, 'from': 1, 'to': 5},\n",
       " {'weight': 8, 'from': 3, 'to': 1},\n",
       " {'weight': 8, 'from': 6, 'to': 1},\n",
       " {'weight': 10, 'from': 8, 'to': 1}]"
      ]
     },
     "execution_count": 100,
     "metadata": {},
     "output_type": "execute_result"
    }
   ],
   "execution_count": 100
  },
  {
   "metadata": {
    "ExecuteTime": {
     "end_time": "2024-11-22T03:11:54.471176Z",
     "start_time": "2024-11-22T03:11:54.464584Z"
    }
   },
   "cell_type": "code",
   "source": [
    "def reconstruct_path(goal):\n",
    "    path = []\n",
    "    current = goal\n",
    "    while current:\n",
    "        path.append(current.id)\n",
    "        current = current.previous\n",
    "    path.reverse()\n",
    "    \n",
    "    return path"
   ],
   "id": "5e63cb63ecd904da",
   "outputs": [],
   "execution_count": 110
  },
  {
   "metadata": {
    "ExecuteTime": {
     "end_time": "2024-11-22T03:08:42.469309Z",
     "start_time": "2024-11-22T03:08:42.467006Z"
    }
   },
   "cell_type": "code",
   "source": [
    "def heuristic(node, goal):\n",
    "    return sqrt((node.x - goal.x)**2 + (node.y - goal.y)**2)"
   ],
   "id": "ebc87f3aa72d5b26",
   "outputs": [],
   "execution_count": 102
  },
  {
   "metadata": {
    "ExecuteTime": {
     "end_time": "2024-11-22T03:21:31.896885Z",
     "start_time": "2024-11-22T03:21:31.889722Z"
    }
   },
   "cell_type": "code",
   "source": [
    "edge_weights = {}\n",
    "edges = net.get_edges()\n",
    "print(edges)\n",
    "# Populate edge_weights\n",
    "for edge in edges:\n",
    "    source = edge[\"from\"]\n",
    "    destination = edge[\"to\"]\n",
    "    weight = edge.get('weight')  # Default weight is 1 if not specified\n",
    "    edge_weights[(source, destination)] = weight\n",
    "    edge_weights[(destination, source)] = weight  # If the graph is undirected\n",
    "\n",
    "# Example usage of edge_weights\n",
    "print(edge_weights)"
   ],
   "id": "64d92be4083477d4",
   "outputs": [
    {
     "name": "stdout",
     "output_type": "stream",
     "text": [
      "[{'weight': 9, 'from': 0, 'to': 9}, {'weight': 10, 'from': 1, 'to': 5}, {'weight': 6, 'from': 2, 'to': 8}, {'weight': 8, 'from': 3, 'to': 1}, {'weight': 4, 'from': 4, 'to': 5}, {'weight': 8, 'from': 6, 'to': 1}, {'weight': 3, 'from': 7, 'to': 5}, {'weight': 10, 'from': 8, 'to': 1}, {'weight': 6, 'from': 9, 'to': 6}, {'weight': 1, 'from': 10, 'to': 9}, {'weight': 5, 'from': 10, 'to': 3}, {'weight': 10, 'from': 11, 'to': 3}, {'weight': 10, 'from': 11, 'to': 9}, {'weight': 6, 'from': 11, 'to': 10}, {'weight': 4, 'from': 12, 'to': 8}]\n",
      "{(0, 9): 9, (9, 0): 9, (1, 5): 10, (5, 1): 10, (2, 8): 6, (8, 2): 6, (3, 1): 8, (1, 3): 8, (4, 5): 4, (5, 4): 4, (6, 1): 8, (1, 6): 8, (7, 5): 3, (5, 7): 3, (8, 1): 10, (1, 8): 10, (9, 6): 6, (6, 9): 6, (10, 9): 1, (9, 10): 1, (10, 3): 5, (3, 10): 5, (11, 3): 10, (3, 11): 10, (11, 9): 10, (9, 11): 10, (11, 10): 6, (10, 11): 6, (12, 8): 4, (8, 12): 4}\n"
     ]
    }
   ],
   "execution_count": 120
  },
  {
   "metadata": {
    "ExecuteTime": {
     "end_time": "2024-11-22T04:06:46.007372Z",
     "start_time": "2024-11-22T04:06:45.990962Z"
    }
   },
   "cell_type": "code",
   "source": [
    "import heapq\n",
    "\n",
    "\n",
    "# Define the A* search algorithm\n",
    "def a_star_search(start, goal, network):\n",
    "    # Start and goal nodes\n",
    "    startNode = same_nodes[start]\n",
    "    goalNode = same_nodes[goal]\n",
    "\n",
    "    # Priority queue with (f_score, Node)\n",
    "    open_set = [(startNode.fscore, startNode)]\n",
    "    visited = set()  # To track visited nodes\n",
    "\n",
    "    while open_set:\n",
    "        _, current = heapq.heappop(open_set)\n",
    "\n",
    "        # If current node is the goal, reconstruct the path\n",
    "        if current.id == goalNode.id:\n",
    "            print(\"Goal reached\")\n",
    "            return reconstruct_path(goalNode)\n",
    "\n",
    "        visited.add(current.id)\n",
    "\n",
    "        # Explore neighbors\n",
    "        for neighbor_id in network.neighbors(current.id):\n",
    "            print(f\"Checking neighbor {neighbor_id} of node {current.id}\")\n",
    "\n",
    "            if neighbor_id in visited:\n",
    "                print(f\"Neighbor {neighbor_id} already visited, skipping.\")\n",
    "                continue\n",
    "\n",
    "            # Retrieve edge weight\n",
    "            weight = edge_weights.get((current.id, neighbor_id), float(\"inf\"))\n",
    "            if weight == float(\"inf\"):\n",
    "                print(f\"No edge found between {current.id} and {neighbor_id}.\")\n",
    "                continue\n",
    "\n",
    "            neighbor = same_nodes[neighbor_id] \n",
    "            # \n",
    "\n",
    "            # Calculate tentative g_score\n",
    "            tentative_g_score = current.gscore + weight\n",
    "            print(f\"Current g_score: {current.gscore}, Weight: {weight}, Tentative g_score: {tentative_g_score}\")\n",
    "\n",
    "            if tentative_g_score < neighbor.gscore:\n",
    "                # Update scores and previous node\n",
    "                neighbor.gscore = tentative_g_score\n",
    "                neighbor.fscore = tentative_g_score + heuristic(neighbor, goalNode)\n",
    "                neighbor.previous = current\n",
    "                heapq.heappush(open_set, (neighbor.fscore, neighbor))\n",
    "                print(f\"Updated neighbor {neighbor_id} with gscore {neighbor.gscore} and fscore {neighbor.fscore}\")\n",
    "\n",
    "                # Visualization: Update node color in Pyvis\n",
    "                network.get_node(neighbor.id)[\"color\"] = \"orange\"\n",
    "\n",
    "        # Visualization: Mark current node as processed\n",
    "        network.get_node(current.id)[\"color\"] = \"blue\"\n",
    "\n",
    "    print(\"No path found\")\n",
    "    return None"
   ],
   "id": "14a3dcf23c446878",
   "outputs": [],
   "execution_count": 124
  },
  {
   "metadata": {
    "ExecuteTime": {
     "end_time": "2024-11-22T04:06:47.490585Z",
     "start_time": "2024-11-22T04:06:47.485257Z"
    }
   },
   "cell_type": "code",
   "source": [
    "'''\n",
    "begin = nodes[0]\n",
    "goal_node = nodes[-1]\n",
    "'''\n",
    "    # Run A* algorithm\n",
    "path = a_star_search(1, 6, network= net)\n",
    "\n",
    "    # Highlight the path in green\n",
    "if path:\n",
    "    for node_id in path:\n",
    "        net.get_node(node_id)[\"color\"] = \"green\"\n",
    "\n",
    "    # Save and display the network\n",
    "net.toggle_physics(True)\n",
    "net.write_html(\"a_star_visualization.html\")"
   ],
   "id": "4d177557194109a8",
   "outputs": [
    {
     "name": "stdout",
     "output_type": "stream",
     "text": [
      "Checking neighbor 8 of node 1\n",
      "Current g_score: 14.422205101855956, Weight: 10, Tentative g_score: 24.42220510185596\n",
      "Checking neighbor 3 of node 1\n",
      "Current g_score: 14.422205101855956, Weight: 8, Tentative g_score: 22.42220510185596\n",
      "Checking neighbor 5 of node 1\n",
      "Current g_score: 14.422205101855956, Weight: 10, Tentative g_score: 24.42220510185596\n",
      "Checking neighbor 6 of node 1\n",
      "Current g_score: 14.422205101855956, Weight: 8, Tentative g_score: 22.42220510185596\n",
      "No path found\n"
     ]
    }
   ],
   "execution_count": 125
  },
  {
   "metadata": {
    "ExecuteTime": {
     "end_time": "2024-11-22T03:09:19.613602Z",
     "start_time": "2024-11-22T03:09:19.612196Z"
    }
   },
   "cell_type": "code",
   "source": "",
   "id": "613f741997fbac0c",
   "outputs": [],
   "execution_count": 107
  },
  {
   "metadata": {},
   "cell_type": "code",
   "outputs": [],
   "execution_count": null,
   "source": "",
   "id": "e47514c16dd06221"
  }
 ],
 "metadata": {
  "kernelspec": {
   "display_name": "Python 3",
   "language": "python",
   "name": "python3"
  },
  "language_info": {
   "codemirror_mode": {
    "name": "ipython",
    "version": 2
   },
   "file_extension": ".py",
   "mimetype": "text/x-python",
   "name": "python",
   "nbconvert_exporter": "python",
   "pygments_lexer": "ipython2",
   "version": "2.7.6"
  }
 },
 "nbformat": 4,
 "nbformat_minor": 5
}
